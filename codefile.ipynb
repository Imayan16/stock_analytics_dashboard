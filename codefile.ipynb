{
 "cells": [
  {
   "cell_type": "code",
   "execution_count": 1,
   "id": "c9800fe4",
   "metadata": {},
   "outputs": [
    {
     "name": "stdout",
     "output_type": "stream",
     "text": [
      "pyyaml is working ✅\n"
     ]
    }
   ],
   "source": [
    "import yaml\n",
    "print(\"pyyaml is working ✅\")\n"
   ]
  },
  {
   "cell_type": "code",
   "execution_count": 5,
   "id": "623e5646",
   "metadata": {},
   "outputs": [
    {
     "name": "stdout",
     "output_type": "stream",
     "text": [
      "c:\\Users\\imaya\\AppData\\Local\\Programs\\Python\\Python312\\python.exe\n"
     ]
    }
   ],
   "source": [
    "import sys\n",
    "print(sys.executable)\n"
   ]
  },
  {
   "cell_type": "code",
   "execution_count": 4,
   "id": "4b94fe11",
   "metadata": {},
   "outputs": [
    {
     "name": "stdout",
     "output_type": "stream",
     "text": [
      "Looking in: c:\\Users\\imaya\\Desktop\\emayan\\myfiles\\data\n",
      "Directory does not exist: c:\\Users\\imaya\\Desktop\\emayan\\myfiles\\data\n"
     ]
    }
   ],
   "source": [
    "import os\n",
    "\n",
    "base_dir = os.path.abspath(\"myfiles/data\")\n",
    "print(\"Looking in:\", base_dir)\n",
    "\n",
    "if os.path.exists(base_dir):\n",
    "    for month_folder in os.listdir(base_dir):\n",
    "        print(month_folder)\n",
    "else:\n",
    "    print(\"Directory does not exist:\", base_dir)\n"
   ]
  },
  {
   "cell_type": "code",
   "execution_count": 5,
   "id": "5f408c08",
   "metadata": {},
   "outputs": [
    {
     "name": "stdout",
     "output_type": "stream",
     "text": [
      "Looking in: C:\\Users\\imaya\\Desktop\\data\n",
      "2023-10\n",
      "2023-11\n",
      "2023-12\n",
      "2024-01\n",
      "2024-02\n",
      "2024-03\n",
      "2024-04\n",
      "2024-05\n",
      "2024-06\n",
      "2024-07\n",
      "2024-08\n",
      "2024-09\n",
      "2024-10\n",
      "2024-11\n"
     ]
    }
   ],
   "source": [
    "import os\n",
    "\n",
    "base_dir = r\"C:\\Users\\imaya\\Desktop\\data\"\n",
    "\n",
    "print(\"Looking in:\", base_dir)\n",
    "\n",
    "if os.path.exists(base_dir):\n",
    "    for month_folder in os.listdir(base_dir):\n",
    "        print(month_folder)\n",
    "else:\n",
    "    print(\"Directory does not exist:\", base_dir)\n",
    "\n"
   ]
  },
  {
   "cell_type": "code",
   "execution_count": 2,
   "id": "68955a3e",
   "metadata": {},
   "outputs": [
    {
     "name": "stdout",
     "output_type": "stream",
     "text": [
      "Current working directory: c:\\Users\\imaya\\Desktop\n"
     ]
    }
   ],
   "source": [
    "import os\n",
    "print(\"Current working directory:\", os.getcwd())\n"
   ]
  },
  {
   "cell_type": "code",
   "execution_count": 3,
   "id": "8d71c6dc",
   "metadata": {},
   "outputs": [],
   "source": [
    "import os\n",
    "os.chdir(r\"C:\\Users\\imaya\\Desktop\\emayan\")\n"
   ]
  },
  {
   "cell_type": "code",
   "execution_count": 12,
   "id": "31432408",
   "metadata": {},
   "outputs": [
    {
     "name": "stdout",
     "output_type": "stream",
     "text": [
      "Index(['Ticker', 'close', 'date', 'high', 'low', 'month', 'open', 'volume'], dtype='object')\n"
     ]
    }
   ],
   "source": [
    "print(df.columns)\n"
   ]
  },
  {
   "cell_type": "code",
   "execution_count": 17,
   "id": "332198be",
   "metadata": {},
   "outputs": [
    {
     "name": "stdout",
     "output_type": "stream",
     "text": [
      "\n",
      "✅ Saved top gainers, losers, and sector returns as CSV files.\n"
     ]
    }
   ],
   "source": [
    "import os\n",
    "\n",
    "# After calculating gainers, losers, and sector_avg_returns...\n",
    "\n",
    "output_dir = r\"C:\\Users\\imaya\\Desktop\\stock_csv\"\n",
    "os.makedirs(output_dir, exist_ok=True)\n",
    "\n",
    "# 1. Save top gainers per month to CSV\n",
    "for month, df_gainers in gainers.items():\n",
    "    file_path = os.path.join(output_dir, f\"top_gainers_{month}.csv\")\n",
    "    df_gainers.to_csv(file_path, index=False)\n",
    "\n",
    "# 2. Save top losers per month to CSV\n",
    "for month, df_losers in losers.items():\n",
    "    file_path = os.path.join(output_dir, f\"top_losers_{month}.csv\")\n",
    "    df_losers.to_csv(file_path, index=False)\n",
    "\n",
    "# 3. Save sector average returns to CSV\n",
    "sector_returns_df = pd.DataFrame(list(sector_avg_returns.items()), columns=['Sector', 'Average_Return'])\n",
    "sector_returns_df.to_csv(os.path.join(output_dir, \"sector_average_returns.csv\"), index=False)\n",
    "\n",
    "print(\"\\n✅ Saved top gainers, losers, and sector returns as CSV files.\")\n"
   ]
  },
  {
   "cell_type": "code",
   "execution_count": 20,
   "id": "c58734be",
   "metadata": {},
   "outputs": [],
   "source": [
    "from sqlalchemy import create_engine\n",
    "\n",
    "# Replace with your MySQL username, password, host, port, and database\n",
    "username = 'root'\n",
    "password = 'root'\n",
    "host = 'localhost'\n",
    "port = '3306'\n",
    "database = 'stock_csv'\n",
    "\n",
    "connection_string = f'mysql+pymysql://{username}:{password}@{host}:{port}/{database}'\n",
    "engine = create_engine(connection_string)\n"
   ]
  },
  {
   "cell_type": "code",
   "execution_count": 21,
   "id": "06f9c36c",
   "metadata": {},
   "outputs": [],
   "source": [
    "import pandas as pd\n",
    "from sqlalchemy import create_engine\n",
    "\n",
    "# Connect to MySQL\n",
    "engine = create_engine(connection_string)"
   ]
  },
  {
   "cell_type": "code",
   "execution_count": 32,
   "id": "0aaeee39",
   "metadata": {},
   "outputs": [],
   "source": [
    "import os\n",
    "import pandas as pd\n",
    "\n",
    "folder_path = r\"C:\\Users\\imaya\\Desktop\\stock_csv\"\n",
    "files = os.listdir(folder_path)\n",
    "\n",
    "for file in files:\n",
    "    file_path = os.path.join(folder_path, file)\n",
    "    filename, ext = os.path.splitext(file)\n",
    "    \n",
    "    if ext.lower() in ['.xls', '.xlsx']:\n",
    "        try:\n",
    "            df = pd.read_excel(file_path)\n",
    "            csv_file_path = os.path.join(folder_path, f\"{filename}.csv\")\n",
    "            df.to_csv(csv_file_path, index=False)\n",
    "            print(f\"Converted {file} to {filename}.csv\")\n",
    "        except Exception as e:\n",
    "            print(f\"Failed to convert {file}: {e}\")\n"
   ]
  },
  {
   "cell_type": "code",
   "execution_count": 33,
   "id": "6a762a90",
   "metadata": {},
   "outputs": [
    {
     "name": "stdout",
     "output_type": "stream",
     "text": [
      "Loading YAML data...\n",
      "Creating cleaned dataframes...\n",
      "Calculating yearly returns...\n",
      "Calculating sector performance...\n",
      "Calculating volatility per stock...\n",
      "Calculating cumulative returns...\n",
      "Building close price dataframe for correlation...\n",
      "Calculating monthly gainers and losers...\n",
      "\n",
      "Top 10 Yearly Gainers:\n",
      "TRENT: 220.73%\n",
      "BEL: 103.66%\n",
      "M&M: 88.64%\n",
      "BAJAJ-AUTO: 87.20%\n",
      "BHARTIARTL: 70.90%\n",
      "POWERGRID: 69.53%\n",
      "BPCL: 64.05%\n",
      "HEROMOTOCO: 56.77%\n",
      "SUNPHARMA: 54.83%\n",
      "HCLTECH: 54.03%\n",
      "\n",
      "Top 10 Yearly Losers:\n",
      "INDUSINDBK: -30.29%\n",
      "ASIANPAINT: -21.92%\n",
      "BAJFINANCE: -14.10%\n",
      "ADANIENT: -7.86%\n",
      "HINDUNILVR: -1.80%\n",
      "NESTLEIND: -0.15%\n",
      "KOTAKBANK: 1.82%\n",
      "MARUTI: 3.30%\n",
      "BAJAJFINSV: 4.61%\n",
      "TITAN: 5.08%\n",
      "\n",
      "Sector Average Returns:\n",
      "Financial Services: 5.12%\n",
      "Consumer Goods: -0.67%\n",
      "Information Technology: 38.08%\n",
      "Industrials: 32.17%\n",
      "Unknown: 61.85%\n",
      "Energy: 25.92%\n",
      "Materials: 23.84%\n",
      "Utilities: 59.55%\n",
      "Telecommunications: 70.90%\n",
      "Automobiles: 49.94%\n",
      "Pharmaceuticals: 17.12%\n"
     ]
    }
   ],
   "source": [
    "import os\n",
    "import yaml\n",
    "import pandas as pd\n",
    "import numpy as np\n",
    "from collections import defaultdict\n",
    "\n",
    "# --- Sector mapping dictionary (hardcoded) ---\n",
    "sector_map = {\n",
    "    \"RELIANCE\": \"Energy\",\n",
    "    \"TCS\": \"Information Technology\",\n",
    "    \"HDFC\": \"Financial Services\",\n",
    "    \"INFY\": \"Information Technology\",\n",
    "    \"ICICI\": \"Financial Services\",\n",
    "    \"HDFCBANK\": \"Financial Services\",\n",
    "    \"HINDUNILVR\": \"Consumer Goods\",\n",
    "    \"SBIN\": \"Financial Services\",\n",
    "    \"KOTAKBANK\": \"Financial Services\",\n",
    "    \"ITC\": \"Consumer Goods\",\n",
    "    \"BHARTIARTL\": \"Telecommunications\",\n",
    "    \"LT\": \"Industrials\",\n",
    "    \"ASIANPAINT\": \"Consumer Goods\",\n",
    "    \"BAJAJ-AUTO\": \"Automobiles\",\n",
    "    \"MARUTI\": \"Automobiles\",\n",
    "    \"AXISBANK\": \"Financial Services\",\n",
    "    \"ULTRACEMCO\": \"Industrials\",\n",
    "    \"TITAN\": \"Consumer Goods\",\n",
    "    \"NESTLEIND\": \"Consumer Goods\",\n",
    "    \"M&M\": \"Automobiles\",\n",
    "    \"POWERGRID\": \"Utilities\",\n",
    "    \"INDUSINDBK\": \"Financial Services\",\n",
    "    \"ONGC\": \"Energy\",\n",
    "    \"DRREDDY\": \"Pharmaceuticals\",\n",
    "    \"HCLTECH\": \"Information Technology\",\n",
    "    \"WIPRO\": \"Information Technology\",\n",
    "    \"SBILIFE\": \"Financial Services\",\n",
    "    \"DIVISLAB\": \"Pharmaceuticals\",\n",
    "    \"GRASIM\": \"Industrials\",\n",
    "    \"COALINDIA\": \"Energy\",\n",
    "    \"BAJFINANCE\": \"Financial Services\",\n",
    "    \"EICHERMOT\": \"Automobiles\",\n",
    "    \"TECHM\": \"Information Technology\",\n",
    "    \"JSWSTEEL\": \"Materials\",\n",
    "    \"ADANIPORTS\": \"Industrials\",\n",
    "    \"TATASTEEL\": \"Materials\",\n",
    "    \"BRITANNIA\": \"Consumer Goods\",\n",
    "    \"HINDALCO\": \"Materials\",\n",
    "    \"SHREECEM\": \"Industrials\",\n",
    "    \"HDFCLIFE\": \"Financial Services\",\n",
    "    \"BAJAJFINSV\": \"Financial Services\",\n",
    "    \"NTPC\": \"Utilities\",\n",
    "    \"CIPLA\": \"Pharmaceuticals\",\n",
    "    \"TATAELXSI\": \"Information Technology\",\n",
    "    \"TATAMOTORS\": \"Automobiles\",\n",
    "    \"VEDL\": \"Materials\"\n",
    "}\n",
    "\n",
    "# --- 1. Load YAML data and organize per ticker ---\n",
    "def load_stock_data(base_dir):\n",
    "    stock_data = defaultdict(list)\n",
    "\n",
    "    for month_folder in os.listdir(base_dir):\n",
    "        month_path = os.path.join(base_dir, month_folder)\n",
    "        if not os.path.isdir(month_path):\n",
    "            continue\n",
    "\n",
    "        for filename in os.listdir(month_path):\n",
    "            if filename.endswith(\".yaml\"):\n",
    "                file_path = os.path.join(month_path, filename)\n",
    "                try:\n",
    "                    with open(file_path, 'r') as f:\n",
    "                        records = yaml.safe_load(f)\n",
    "                        if not records:\n",
    "                            continue\n",
    "                        for entry in records:\n",
    "                            ticker = entry.get(\"Ticker\")\n",
    "                            if ticker:\n",
    "                                stock_data[ticker].append(entry)\n",
    "                except Exception as e:\n",
    "                    print(f\"Error reading {file_path}: {e}\")\n",
    "\n",
    "    return stock_data\n",
    "\n",
    "# --- 2. Convert stock_data dict to DataFrame per ticker, clean data ---\n",
    "def create_cleaned_dfs(stock_data):\n",
    "    ticker_dfs = {}\n",
    "    for ticker, records in stock_data.items():\n",
    "        df = pd.DataFrame(records)\n",
    "\n",
    "        # Ensure date column is datetime\n",
    "        df['date'] = pd.to_datetime(df['date'])\n",
    "\n",
    "        # Sort by date ascending\n",
    "        df.sort_values('date', inplace=True)\n",
    "\n",
    "        # Remove duplicates\n",
    "        df.drop_duplicates(inplace=True)\n",
    "\n",
    "        # Convert numeric columns to numeric types (all lowercase column names)\n",
    "        for col in ['open', 'close', 'high', 'low', 'volume']:\n",
    "            if col in df.columns:\n",
    "                df[col] = pd.to_numeric(df[col], errors='coerce')\n",
    "\n",
    "        ticker_dfs[ticker] = df.reset_index(drop=True)\n",
    "    return ticker_dfs\n",
    "\n",
    "# --- 3. Calculate yearly return per stock ---\n",
    "def calculate_yearly_return(df):\n",
    "    if df.empty:\n",
    "        return np.nan\n",
    "    try:\n",
    "        start_price = df.iloc[0]['open']\n",
    "        end_price = df.iloc[-1]['close']\n",
    "        yearly_return = (end_price - start_price) / start_price\n",
    "        return yearly_return\n",
    "    except Exception:\n",
    "        return np.nan\n",
    "\n",
    "# --- 4. Calculate daily returns and volatility ---\n",
    "def calculate_daily_returns(df):\n",
    "    df = df.copy()\n",
    "    df['daily_return'] = df['close'].pct_change()\n",
    "    return df\n",
    "\n",
    "def calculate_volatility(df):\n",
    "    return df['daily_return'].std()\n",
    "\n",
    "# --- 5. Calculate cumulative returns ---\n",
    "def calculate_cumulative_return(df):\n",
    "    df = df.copy()\n",
    "    df['cumulative_return'] = (1 + df['daily_return']).cumprod() - 1\n",
    "    return df\n",
    "\n",
    "# --- 6. Aggregate yearly return by sector ---\n",
    "def sector_performance(ticker_returns, sector_map):\n",
    "    sector_returns = defaultdict(list)\n",
    "    for ticker, ret in ticker_returns.items():\n",
    "        sector = sector_map.get(ticker, 'Unknown')  # default to Unknown if ticker not found\n",
    "        if ret is not None and not np.isnan(ret):\n",
    "            sector_returns[sector].append(ret)\n",
    "\n",
    "    sector_avg_returns = {sector: np.nanmean(returns) for sector, returns in sector_returns.items()}\n",
    "    return sector_avg_returns\n",
    "\n",
    "# --- 7. Calculate correlation matrix ---\n",
    "def build_close_price_df(ticker_dfs):\n",
    "    close_prices = {}\n",
    "    for ticker, df in ticker_dfs.items():\n",
    "        close_prices[ticker] = df.set_index('date')['close']\n",
    "    close_df = pd.DataFrame(close_prices)\n",
    "    return close_df\n",
    "\n",
    "# --- 8. Monthly gainers and losers ---\n",
    "def monthly_gainers_losers(ticker_dfs):\n",
    "    records = []\n",
    "    for ticker, df in ticker_dfs.items():\n",
    "        df = df.copy()\n",
    "        df['month'] = df['date'].dt.to_period('M')\n",
    "        df['monthly_return'] = df.groupby('month')['close'].transform(\n",
    "            lambda x: x.iloc[-1] / x.iloc[0] - 1 if len(x) > 1 else np.nan\n",
    "        )\n",
    "        # Get unique month returns\n",
    "        month_returns = df.drop_duplicates(subset=['month'])[['month', 'monthly_return']]\n",
    "        for _, row in month_returns.iterrows():\n",
    "            if pd.notnull(row['monthly_return']):\n",
    "                records.append({\n",
    "                    'Ticker': ticker,\n",
    "                    'Month': str(row['month']),\n",
    "                    'Monthly_Return': row['monthly_return']\n",
    "                })\n",
    "    monthly_df = pd.DataFrame(records)\n",
    "    return monthly_df\n",
    "\n",
    "def top_bottom_monthly(monthly_df, top_n=5):\n",
    "    months = monthly_df['Month'].unique()\n",
    "    gainers = {}\n",
    "    losers = {}\n",
    "    for month in months:\n",
    "        df_month = monthly_df[monthly_df['Month'] == month]\n",
    "        gainers[month] = df_month.nlargest(top_n, 'Monthly_Return')\n",
    "        losers[month] = df_month.nsmallest(top_n, 'Monthly_Return')\n",
    "    return gainers, losers\n",
    "\n",
    "# --- Main Execution ---\n",
    "if __name__ == \"__main__\":\n",
    "    BASE_DIR = r\"C:\\Users\\imaya\\Desktop\\data\"   # Change to your actual data folder path\n",
    "\n",
    "    print(\"Loading YAML data...\")\n",
    "    stock_data = load_stock_data(BASE_DIR)\n",
    "\n",
    "    print(\"Creating cleaned dataframes...\")\n",
    "    ticker_dfs = create_cleaned_dfs(stock_data)\n",
    "\n",
    "    print(\"Calculating yearly returns...\")\n",
    "    yearly_returns = {}\n",
    "    for ticker, df in ticker_dfs.items():\n",
    "        yearly_returns[ticker] = calculate_yearly_return(df)\n",
    "\n",
    "    print(\"Calculating sector performance...\")\n",
    "    sector_avg_returns = sector_performance(yearly_returns, sector_map)\n",
    "\n",
    "    print(\"Calculating volatility per stock...\")\n",
    "    volatility = {}\n",
    "    for ticker, df in ticker_dfs.items():\n",
    "        df = calculate_daily_returns(df)\n",
    "        volatility[ticker] = calculate_volatility(df)\n",
    "        ticker_dfs[ticker] = df  # Update with daily returns and later cumulative return\n",
    "\n",
    "    print(\"Calculating cumulative returns...\")\n",
    "    for ticker, df in ticker_dfs.items():\n",
    "        ticker_dfs[ticker] = calculate_cumulative_return(df)\n",
    "\n",
    "    print(\"Building close price dataframe for correlation...\")\n",
    "    close_df = build_close_price_df(ticker_dfs)\n",
    "    correlation_matrix = close_df.corr()\n",
    "\n",
    "    print(\"Calculating monthly gainers and losers...\")\n",
    "    monthly_df = monthly_gainers_losers(ticker_dfs)\n",
    "    gainers, losers = top_bottom_monthly(monthly_df, top_n=5)\n",
    "\n",
    "    # Save cleaned CSVs per ticker\n",
    "    output_dir = r\"C:\\Users\\imaya\\Desktop\\stock_csv\"\n",
    "    os.makedirs(output_dir, exist_ok=True)\n",
    "\n",
    "    # 1. Save each ticker cleaned data CSV\n",
    "    for ticker, df in ticker_dfs.items():\n",
    "        df.to_csv(os.path.join(output_dir, f\"{ticker}.csv\"), index=False)\n",
    "\n",
    "    # 2. Save monthly top gainers CSV files\n",
    "    for month, df_gainers in gainers.items():\n",
    "        df_gainers.to_csv(os.path.join(output_dir, f\"top_gainers_{month}.csv\"), index=False)\n",
    "\n",
    "    # 3. Save monthly top losers CSV files\n",
    "    for month, df_losers in losers.items():\n",
    "        df_losers.to_csv(os.path.join(output_dir, f\"top_losers_{month}.csv\"), index=False)\n",
    "\n",
    "    # 4. Save sector average returns CSV\n",
    "    sector_returns_df = pd.DataFrame(list(sector_avg_returns.items()), columns=['Sector', 'Average_Return'])\n",
    "    sector_returns_df.to_csv(os.path.join(output_dir, \"sector_average_returns.csv\"), index=False)\n",
    "\n",
    "    # Display results\n",
    "    print(\"\\nTop 10 Yearly Gainers:\")\n",
    "    top_gainers = sorted(yearly_returns.items(), key=lambda x: x[1] if x[1] is not None else -np.inf, reverse=True)[:10]\n",
    "    for ticker, ret in top_gainers:\n",
    "        print(f\"{ticker}: {ret:.2%}\")\n",
    "\n",
    "    print(\"\\nTop 10 Yearly Losers:\")\n",
    "    top_losers = sorted(yearly_returns.items(), key=lambda x: x[1] if x[1] is not None else np.inf)[:10]\n",
    "    for ticker, ret in top_losers:\n",
    "        print(f\"{ticker}: {ret:.2%}\")\n",
    "\n",
    "    print(\"\\nSector Average Returns:\")\n",
    "    for sector, ret in sector_avg_returns.items():\n",
    "        print(f\"{sector}: {ret:.2%}\")\n"
   ]
  },
  {
   "cell_type": "code",
   "execution_count": 1,
   "id": "ab2da5f7",
   "metadata": {},
   "outputs": [
    {
     "name": "stdout",
     "output_type": "stream",
     "text": [
      "Database 'stock_csv' ensured.\n",
      "Uploading ADANIENT.csv to MySQL table 'ADANIENT'...\n",
      "Uploaded 'ADANIENT' successfully.\n",
      "Uploading ADANIPORTS.csv to MySQL table 'ADANIPORTS'...\n",
      "Uploaded 'ADANIPORTS' successfully.\n",
      "Uploading APOLLOHOSP.csv to MySQL table 'APOLLOHOSP'...\n"
     ]
    },
    {
     "name": "stderr",
     "output_type": "stream",
     "text": [
      "C:\\Users\\imaya\\AppData\\Local\\Temp\\ipykernel_9328\\4133618462.py:37: UserWarning: The provided table name 'ADANIENT' is not found exactly as such in the database after writing the table, possibly due to case sensitivity issues. Consider using lower case table names.\n",
      "  df.to_sql(table_name, con=engine_db, if_exists='replace', index=False)\n",
      "C:\\Users\\imaya\\AppData\\Local\\Temp\\ipykernel_9328\\4133618462.py:37: UserWarning: The provided table name 'ADANIPORTS' is not found exactly as such in the database after writing the table, possibly due to case sensitivity issues. Consider using lower case table names.\n",
      "  df.to_sql(table_name, con=engine_db, if_exists='replace', index=False)\n",
      "C:\\Users\\imaya\\AppData\\Local\\Temp\\ipykernel_9328\\4133618462.py:37: UserWarning: The provided table name 'APOLLOHOSP' is not found exactly as such in the database after writing the table, possibly due to case sensitivity issues. Consider using lower case table names.\n",
      "  df.to_sql(table_name, con=engine_db, if_exists='replace', index=False)\n",
      "C:\\Users\\imaya\\AppData\\Local\\Temp\\ipykernel_9328\\4133618462.py:37: UserWarning: The provided table name 'ASIANPAINT' is not found exactly as such in the database after writing the table, possibly due to case sensitivity issues. Consider using lower case table names.\n",
      "  df.to_sql(table_name, con=engine_db, if_exists='replace', index=False)\n"
     ]
    },
    {
     "name": "stdout",
     "output_type": "stream",
     "text": [
      "Uploaded 'APOLLOHOSP' successfully.\n",
      "Uploading ASIANPAINT.csv to MySQL table 'ASIANPAINT'...\n",
      "Uploaded 'ASIANPAINT' successfully.\n",
      "Uploading AXISBANK.csv to MySQL table 'AXISBANK'...\n",
      "Uploaded 'AXISBANK' successfully.\n",
      "Uploading BAJAJ-AUTO.csv to MySQL table 'BAJAJ-AUTO'...\n",
      "Uploaded 'BAJAJ-AUTO' successfully.\n",
      "Uploading BAJAJFINSV.csv to MySQL table 'BAJAJFINSV'...\n"
     ]
    },
    {
     "name": "stderr",
     "output_type": "stream",
     "text": [
      "C:\\Users\\imaya\\AppData\\Local\\Temp\\ipykernel_9328\\4133618462.py:37: UserWarning: The provided table name 'AXISBANK' is not found exactly as such in the database after writing the table, possibly due to case sensitivity issues. Consider using lower case table names.\n",
      "  df.to_sql(table_name, con=engine_db, if_exists='replace', index=False)\n",
      "C:\\Users\\imaya\\AppData\\Local\\Temp\\ipykernel_9328\\4133618462.py:37: UserWarning: The provided table name 'BAJAJ-AUTO' is not found exactly as such in the database after writing the table, possibly due to case sensitivity issues. Consider using lower case table names.\n",
      "  df.to_sql(table_name, con=engine_db, if_exists='replace', index=False)\n",
      "C:\\Users\\imaya\\AppData\\Local\\Temp\\ipykernel_9328\\4133618462.py:37: UserWarning: The provided table name 'BAJAJFINSV' is not found exactly as such in the database after writing the table, possibly due to case sensitivity issues. Consider using lower case table names.\n",
      "  df.to_sql(table_name, con=engine_db, if_exists='replace', index=False)\n",
      "C:\\Users\\imaya\\AppData\\Local\\Temp\\ipykernel_9328\\4133618462.py:37: UserWarning: The provided table name 'BAJFINANCE' is not found exactly as such in the database after writing the table, possibly due to case sensitivity issues. Consider using lower case table names.\n",
      "  df.to_sql(table_name, con=engine_db, if_exists='replace', index=False)\n"
     ]
    },
    {
     "name": "stdout",
     "output_type": "stream",
     "text": [
      "Uploaded 'BAJAJFINSV' successfully.\n",
      "Uploading BAJFINANCE.csv to MySQL table 'BAJFINANCE'...\n",
      "Uploaded 'BAJFINANCE' successfully.\n",
      "Uploading BEL.csv to MySQL table 'BEL'...\n",
      "Uploaded 'BEL' successfully.\n",
      "Uploading BHARTIARTL.csv to MySQL table 'BHARTIARTL'...\n"
     ]
    },
    {
     "name": "stderr",
     "output_type": "stream",
     "text": [
      "C:\\Users\\imaya\\AppData\\Local\\Temp\\ipykernel_9328\\4133618462.py:37: UserWarning: The provided table name 'BEL' is not found exactly as such in the database after writing the table, possibly due to case sensitivity issues. Consider using lower case table names.\n",
      "  df.to_sql(table_name, con=engine_db, if_exists='replace', index=False)\n",
      "C:\\Users\\imaya\\AppData\\Local\\Temp\\ipykernel_9328\\4133618462.py:37: UserWarning: The provided table name 'BHARTIARTL' is not found exactly as such in the database after writing the table, possibly due to case sensitivity issues. Consider using lower case table names.\n",
      "  df.to_sql(table_name, con=engine_db, if_exists='replace', index=False)\n",
      "C:\\Users\\imaya\\AppData\\Local\\Temp\\ipykernel_9328\\4133618462.py:37: UserWarning: The provided table name 'BPCL' is not found exactly as such in the database after writing the table, possibly due to case sensitivity issues. Consider using lower case table names.\n",
      "  df.to_sql(table_name, con=engine_db, if_exists='replace', index=False)\n"
     ]
    },
    {
     "name": "stdout",
     "output_type": "stream",
     "text": [
      "Uploaded 'BHARTIARTL' successfully.\n",
      "Uploading BPCL.csv to MySQL table 'BPCL'...\n",
      "Uploaded 'BPCL' successfully.\n",
      "Uploading BRITANNIA.csv to MySQL table 'BRITANNIA'...\n",
      "Uploaded 'BRITANNIA' successfully.\n",
      "Uploading CIPLA.csv to MySQL table 'CIPLA'...\n",
      "Uploaded 'CIPLA' successfully.\n",
      "Uploading COALINDIA.csv to MySQL table 'COALINDIA'...\n"
     ]
    },
    {
     "name": "stderr",
     "output_type": "stream",
     "text": [
      "C:\\Users\\imaya\\AppData\\Local\\Temp\\ipykernel_9328\\4133618462.py:37: UserWarning: The provided table name 'BRITANNIA' is not found exactly as such in the database after writing the table, possibly due to case sensitivity issues. Consider using lower case table names.\n",
      "  df.to_sql(table_name, con=engine_db, if_exists='replace', index=False)\n",
      "C:\\Users\\imaya\\AppData\\Local\\Temp\\ipykernel_9328\\4133618462.py:37: UserWarning: The provided table name 'CIPLA' is not found exactly as such in the database after writing the table, possibly due to case sensitivity issues. Consider using lower case table names.\n",
      "  df.to_sql(table_name, con=engine_db, if_exists='replace', index=False)\n",
      "C:\\Users\\imaya\\AppData\\Local\\Temp\\ipykernel_9328\\4133618462.py:37: UserWarning: The provided table name 'COALINDIA' is not found exactly as such in the database after writing the table, possibly due to case sensitivity issues. Consider using lower case table names.\n",
      "  df.to_sql(table_name, con=engine_db, if_exists='replace', index=False)\n",
      "C:\\Users\\imaya\\AppData\\Local\\Temp\\ipykernel_9328\\4133618462.py:37: UserWarning: The provided table name 'DRREDDY' is not found exactly as such in the database after writing the table, possibly due to case sensitivity issues. Consider using lower case table names.\n",
      "  df.to_sql(table_name, con=engine_db, if_exists='replace', index=False)\n"
     ]
    },
    {
     "name": "stdout",
     "output_type": "stream",
     "text": [
      "Uploaded 'COALINDIA' successfully.\n",
      "Uploading DRREDDY.csv to MySQL table 'DRREDDY'...\n",
      "Uploaded 'DRREDDY' successfully.\n",
      "Uploading EICHERMOT.csv to MySQL table 'EICHERMOT'...\n",
      "Uploaded 'EICHERMOT' successfully.\n",
      "Uploading GRASIM.csv to MySQL table 'GRASIM'...\n",
      "Uploaded 'GRASIM' successfully.\n",
      "Uploading HCLTECH.csv to MySQL table 'HCLTECH'...\n"
     ]
    },
    {
     "name": "stderr",
     "output_type": "stream",
     "text": [
      "C:\\Users\\imaya\\AppData\\Local\\Temp\\ipykernel_9328\\4133618462.py:37: UserWarning: The provided table name 'EICHERMOT' is not found exactly as such in the database after writing the table, possibly due to case sensitivity issues. Consider using lower case table names.\n",
      "  df.to_sql(table_name, con=engine_db, if_exists='replace', index=False)\n",
      "C:\\Users\\imaya\\AppData\\Local\\Temp\\ipykernel_9328\\4133618462.py:37: UserWarning: The provided table name 'GRASIM' is not found exactly as such in the database after writing the table, possibly due to case sensitivity issues. Consider using lower case table names.\n",
      "  df.to_sql(table_name, con=engine_db, if_exists='replace', index=False)\n",
      "C:\\Users\\imaya\\AppData\\Local\\Temp\\ipykernel_9328\\4133618462.py:37: UserWarning: The provided table name 'HCLTECH' is not found exactly as such in the database after writing the table, possibly due to case sensitivity issues. Consider using lower case table names.\n",
      "  df.to_sql(table_name, con=engine_db, if_exists='replace', index=False)\n",
      "C:\\Users\\imaya\\AppData\\Local\\Temp\\ipykernel_9328\\4133618462.py:37: UserWarning: The provided table name 'HDFCBANK' is not found exactly as such in the database after writing the table, possibly due to case sensitivity issues. Consider using lower case table names.\n",
      "  df.to_sql(table_name, con=engine_db, if_exists='replace', index=False)\n"
     ]
    },
    {
     "name": "stdout",
     "output_type": "stream",
     "text": [
      "Uploaded 'HCLTECH' successfully.\n",
      "Uploading HDFCBANK.csv to MySQL table 'HDFCBANK'...\n",
      "Uploaded 'HDFCBANK' successfully.\n",
      "Uploading HDFCLIFE.csv to MySQL table 'HDFCLIFE'...\n",
      "Uploaded 'HDFCLIFE' successfully.\n",
      "Uploading HEROMOTOCO.csv to MySQL table 'HEROMOTOCO'...\n"
     ]
    },
    {
     "name": "stderr",
     "output_type": "stream",
     "text": [
      "C:\\Users\\imaya\\AppData\\Local\\Temp\\ipykernel_9328\\4133618462.py:37: UserWarning: The provided table name 'HDFCLIFE' is not found exactly as such in the database after writing the table, possibly due to case sensitivity issues. Consider using lower case table names.\n",
      "  df.to_sql(table_name, con=engine_db, if_exists='replace', index=False)\n",
      "C:\\Users\\imaya\\AppData\\Local\\Temp\\ipykernel_9328\\4133618462.py:37: UserWarning: The provided table name 'HEROMOTOCO' is not found exactly as such in the database after writing the table, possibly due to case sensitivity issues. Consider using lower case table names.\n",
      "  df.to_sql(table_name, con=engine_db, if_exists='replace', index=False)\n",
      "C:\\Users\\imaya\\AppData\\Local\\Temp\\ipykernel_9328\\4133618462.py:37: UserWarning: The provided table name 'HINDALCO' is not found exactly as such in the database after writing the table, possibly due to case sensitivity issues. Consider using lower case table names.\n",
      "  df.to_sql(table_name, con=engine_db, if_exists='replace', index=False)\n"
     ]
    },
    {
     "name": "stdout",
     "output_type": "stream",
     "text": [
      "Uploaded 'HEROMOTOCO' successfully.\n",
      "Uploading HINDALCO.csv to MySQL table 'HINDALCO'...\n",
      "Uploaded 'HINDALCO' successfully.\n",
      "Uploading HINDUNILVR.csv to MySQL table 'HINDUNILVR'...\n",
      "Uploaded 'HINDUNILVR' successfully.\n",
      "Uploading ICICIBANK.csv to MySQL table 'ICICIBANK'...\n"
     ]
    },
    {
     "name": "stderr",
     "output_type": "stream",
     "text": [
      "C:\\Users\\imaya\\AppData\\Local\\Temp\\ipykernel_9328\\4133618462.py:37: UserWarning: The provided table name 'HINDUNILVR' is not found exactly as such in the database after writing the table, possibly due to case sensitivity issues. Consider using lower case table names.\n",
      "  df.to_sql(table_name, con=engine_db, if_exists='replace', index=False)\n",
      "C:\\Users\\imaya\\AppData\\Local\\Temp\\ipykernel_9328\\4133618462.py:37: UserWarning: The provided table name 'ICICIBANK' is not found exactly as such in the database after writing the table, possibly due to case sensitivity issues. Consider using lower case table names.\n",
      "  df.to_sql(table_name, con=engine_db, if_exists='replace', index=False)\n",
      "C:\\Users\\imaya\\AppData\\Local\\Temp\\ipykernel_9328\\4133618462.py:37: UserWarning: The provided table name 'INDUSINDBK' is not found exactly as such in the database after writing the table, possibly due to case sensitivity issues. Consider using lower case table names.\n",
      "  df.to_sql(table_name, con=engine_db, if_exists='replace', index=False)\n"
     ]
    },
    {
     "name": "stdout",
     "output_type": "stream",
     "text": [
      "Uploaded 'ICICIBANK' successfully.\n",
      "Uploading INDUSINDBK.csv to MySQL table 'INDUSINDBK'...\n",
      "Uploaded 'INDUSINDBK' successfully.\n",
      "Uploading INFY.csv to MySQL table 'INFY'...\n",
      "Uploaded 'INFY' successfully.\n",
      "Uploading ITC.csv to MySQL table 'ITC'...\n"
     ]
    },
    {
     "name": "stderr",
     "output_type": "stream",
     "text": [
      "C:\\Users\\imaya\\AppData\\Local\\Temp\\ipykernel_9328\\4133618462.py:37: UserWarning: The provided table name 'INFY' is not found exactly as such in the database after writing the table, possibly due to case sensitivity issues. Consider using lower case table names.\n",
      "  df.to_sql(table_name, con=engine_db, if_exists='replace', index=False)\n",
      "C:\\Users\\imaya\\AppData\\Local\\Temp\\ipykernel_9328\\4133618462.py:37: UserWarning: The provided table name 'ITC' is not found exactly as such in the database after writing the table, possibly due to case sensitivity issues. Consider using lower case table names.\n",
      "  df.to_sql(table_name, con=engine_db, if_exists='replace', index=False)\n",
      "C:\\Users\\imaya\\AppData\\Local\\Temp\\ipykernel_9328\\4133618462.py:37: UserWarning: The provided table name 'JSWSTEEL' is not found exactly as such in the database after writing the table, possibly due to case sensitivity issues. Consider using lower case table names.\n",
      "  df.to_sql(table_name, con=engine_db, if_exists='replace', index=False)\n"
     ]
    },
    {
     "name": "stdout",
     "output_type": "stream",
     "text": [
      "Uploaded 'ITC' successfully.\n",
      "Uploading JSWSTEEL.csv to MySQL table 'JSWSTEEL'...\n",
      "Uploaded 'JSWSTEEL' successfully.\n",
      "Uploading KOTAKBANK.csv to MySQL table 'KOTAKBANK'...\n",
      "Uploaded 'KOTAKBANK' successfully.\n",
      "Uploading LT.csv to MySQL table 'LT'...\n"
     ]
    },
    {
     "name": "stderr",
     "output_type": "stream",
     "text": [
      "C:\\Users\\imaya\\AppData\\Local\\Temp\\ipykernel_9328\\4133618462.py:37: UserWarning: The provided table name 'KOTAKBANK' is not found exactly as such in the database after writing the table, possibly due to case sensitivity issues. Consider using lower case table names.\n",
      "  df.to_sql(table_name, con=engine_db, if_exists='replace', index=False)\n",
      "C:\\Users\\imaya\\AppData\\Local\\Temp\\ipykernel_9328\\4133618462.py:37: UserWarning: The provided table name 'LT' is not found exactly as such in the database after writing the table, possibly due to case sensitivity issues. Consider using lower case table names.\n",
      "  df.to_sql(table_name, con=engine_db, if_exists='replace', index=False)\n",
      "C:\\Users\\imaya\\AppData\\Local\\Temp\\ipykernel_9328\\4133618462.py:37: UserWarning: The provided table name 'M&M' is not found exactly as such in the database after writing the table, possibly due to case sensitivity issues. Consider using lower case table names.\n",
      "  df.to_sql(table_name, con=engine_db, if_exists='replace', index=False)\n"
     ]
    },
    {
     "name": "stdout",
     "output_type": "stream",
     "text": [
      "Uploaded 'LT' successfully.\n",
      "Uploading M&M.csv to MySQL table 'M&M'...\n",
      "Uploaded 'M&M' successfully.\n",
      "Uploading MARUTI.csv to MySQL table 'MARUTI'...\n",
      "Uploaded 'MARUTI' successfully.\n",
      "Uploading NESTLEIND.csv to MySQL table 'NESTLEIND'...\n",
      "Uploaded 'NESTLEIND' successfully.\n",
      "Uploading NTPC.csv to MySQL table 'NTPC'...\n"
     ]
    },
    {
     "name": "stderr",
     "output_type": "stream",
     "text": [
      "C:\\Users\\imaya\\AppData\\Local\\Temp\\ipykernel_9328\\4133618462.py:37: UserWarning: The provided table name 'MARUTI' is not found exactly as such in the database after writing the table, possibly due to case sensitivity issues. Consider using lower case table names.\n",
      "  df.to_sql(table_name, con=engine_db, if_exists='replace', index=False)\n",
      "C:\\Users\\imaya\\AppData\\Local\\Temp\\ipykernel_9328\\4133618462.py:37: UserWarning: The provided table name 'NESTLEIND' is not found exactly as such in the database after writing the table, possibly due to case sensitivity issues. Consider using lower case table names.\n",
      "  df.to_sql(table_name, con=engine_db, if_exists='replace', index=False)\n",
      "C:\\Users\\imaya\\AppData\\Local\\Temp\\ipykernel_9328\\4133618462.py:37: UserWarning: The provided table name 'NTPC' is not found exactly as such in the database after writing the table, possibly due to case sensitivity issues. Consider using lower case table names.\n",
      "  df.to_sql(table_name, con=engine_db, if_exists='replace', index=False)\n"
     ]
    },
    {
     "name": "stdout",
     "output_type": "stream",
     "text": [
      "Uploaded 'NTPC' successfully.\n",
      "Uploading ONGC.csv to MySQL table 'ONGC'...\n",
      "Uploaded 'ONGC' successfully.\n",
      "Uploading POWERGRID.csv to MySQL table 'POWERGRID'...\n",
      "Uploaded 'POWERGRID' successfully.\n",
      "Uploading RELIANCE.csv to MySQL table 'RELIANCE'...\n"
     ]
    },
    {
     "name": "stderr",
     "output_type": "stream",
     "text": [
      "C:\\Users\\imaya\\AppData\\Local\\Temp\\ipykernel_9328\\4133618462.py:37: UserWarning: The provided table name 'ONGC' is not found exactly as such in the database after writing the table, possibly due to case sensitivity issues. Consider using lower case table names.\n",
      "  df.to_sql(table_name, con=engine_db, if_exists='replace', index=False)\n",
      "C:\\Users\\imaya\\AppData\\Local\\Temp\\ipykernel_9328\\4133618462.py:37: UserWarning: The provided table name 'POWERGRID' is not found exactly as such in the database after writing the table, possibly due to case sensitivity issues. Consider using lower case table names.\n",
      "  df.to_sql(table_name, con=engine_db, if_exists='replace', index=False)\n",
      "C:\\Users\\imaya\\AppData\\Local\\Temp\\ipykernel_9328\\4133618462.py:37: UserWarning: The provided table name 'RELIANCE' is not found exactly as such in the database after writing the table, possibly due to case sensitivity issues. Consider using lower case table names.\n",
      "  df.to_sql(table_name, con=engine_db, if_exists='replace', index=False)\n",
      "C:\\Users\\imaya\\AppData\\Local\\Temp\\ipykernel_9328\\4133618462.py:37: UserWarning: The provided table name 'SBILIFE' is not found exactly as such in the database after writing the table, possibly due to case sensitivity issues. Consider using lower case table names.\n",
      "  df.to_sql(table_name, con=engine_db, if_exists='replace', index=False)\n"
     ]
    },
    {
     "name": "stdout",
     "output_type": "stream",
     "text": [
      "Uploaded 'RELIANCE' successfully.\n",
      "Uploading SBILIFE.csv to MySQL table 'SBILIFE'...\n",
      "Uploaded 'SBILIFE' successfully.\n",
      "Uploading SBIN.csv to MySQL table 'SBIN'...\n",
      "Uploaded 'SBIN' successfully.\n",
      "Uploading sector_average_returns.csv to MySQL table 'sector_average_returns'...\n",
      "Uploaded 'sector_average_returns' successfully.\n",
      "Uploading SHRIRAMFIN.csv to MySQL table 'SHRIRAMFIN'...\n"
     ]
    },
    {
     "name": "stderr",
     "output_type": "stream",
     "text": [
      "C:\\Users\\imaya\\AppData\\Local\\Temp\\ipykernel_9328\\4133618462.py:37: UserWarning: The provided table name 'SBIN' is not found exactly as such in the database after writing the table, possibly due to case sensitivity issues. Consider using lower case table names.\n",
      "  df.to_sql(table_name, con=engine_db, if_exists='replace', index=False)\n",
      "C:\\Users\\imaya\\AppData\\Local\\Temp\\ipykernel_9328\\4133618462.py:37: UserWarning: The provided table name 'SHRIRAMFIN' is not found exactly as such in the database after writing the table, possibly due to case sensitivity issues. Consider using lower case table names.\n",
      "  df.to_sql(table_name, con=engine_db, if_exists='replace', index=False)\n",
      "C:\\Users\\imaya\\AppData\\Local\\Temp\\ipykernel_9328\\4133618462.py:37: UserWarning: The provided table name 'SUNPHARMA' is not found exactly as such in the database after writing the table, possibly due to case sensitivity issues. Consider using lower case table names.\n",
      "  df.to_sql(table_name, con=engine_db, if_exists='replace', index=False)\n"
     ]
    },
    {
     "name": "stdout",
     "output_type": "stream",
     "text": [
      "Uploaded 'SHRIRAMFIN' successfully.\n",
      "Uploading SUNPHARMA.csv to MySQL table 'SUNPHARMA'...\n",
      "Uploaded 'SUNPHARMA' successfully.\n",
      "Uploading TATACONSUM.csv to MySQL table 'TATACONSUM'...\n",
      "Uploaded 'TATACONSUM' successfully.\n",
      "Uploading TATAMOTORS.csv to MySQL table 'TATAMOTORS'...\n"
     ]
    },
    {
     "name": "stderr",
     "output_type": "stream",
     "text": [
      "C:\\Users\\imaya\\AppData\\Local\\Temp\\ipykernel_9328\\4133618462.py:37: UserWarning: The provided table name 'TATACONSUM' is not found exactly as such in the database after writing the table, possibly due to case sensitivity issues. Consider using lower case table names.\n",
      "  df.to_sql(table_name, con=engine_db, if_exists='replace', index=False)\n",
      "C:\\Users\\imaya\\AppData\\Local\\Temp\\ipykernel_9328\\4133618462.py:37: UserWarning: The provided table name 'TATAMOTORS' is not found exactly as such in the database after writing the table, possibly due to case sensitivity issues. Consider using lower case table names.\n",
      "  df.to_sql(table_name, con=engine_db, if_exists='replace', index=False)\n",
      "C:\\Users\\imaya\\AppData\\Local\\Temp\\ipykernel_9328\\4133618462.py:37: UserWarning: The provided table name 'TATASTEEL' is not found exactly as such in the database after writing the table, possibly due to case sensitivity issues. Consider using lower case table names.\n",
      "  df.to_sql(table_name, con=engine_db, if_exists='replace', index=False)\n"
     ]
    },
    {
     "name": "stdout",
     "output_type": "stream",
     "text": [
      "Uploaded 'TATAMOTORS' successfully.\n",
      "Uploading TATASTEEL.csv to MySQL table 'TATASTEEL'...\n",
      "Uploaded 'TATASTEEL' successfully.\n",
      "Uploading TCS.csv to MySQL table 'TCS'...\n"
     ]
    },
    {
     "name": "stderr",
     "output_type": "stream",
     "text": [
      "C:\\Users\\imaya\\AppData\\Local\\Temp\\ipykernel_9328\\4133618462.py:37: UserWarning: The provided table name 'TCS' is not found exactly as such in the database after writing the table, possibly due to case sensitivity issues. Consider using lower case table names.\n",
      "  df.to_sql(table_name, con=engine_db, if_exists='replace', index=False)\n",
      "C:\\Users\\imaya\\AppData\\Local\\Temp\\ipykernel_9328\\4133618462.py:37: UserWarning: The provided table name 'TECHM' is not found exactly as such in the database after writing the table, possibly due to case sensitivity issues. Consider using lower case table names.\n",
      "  df.to_sql(table_name, con=engine_db, if_exists='replace', index=False)\n",
      "C:\\Users\\imaya\\AppData\\Local\\Temp\\ipykernel_9328\\4133618462.py:37: UserWarning: The provided table name 'TITAN' is not found exactly as such in the database after writing the table, possibly due to case sensitivity issues. Consider using lower case table names.\n",
      "  df.to_sql(table_name, con=engine_db, if_exists='replace', index=False)\n"
     ]
    },
    {
     "name": "stdout",
     "output_type": "stream",
     "text": [
      "Uploaded 'TCS' successfully.\n",
      "Uploading TECHM.csv to MySQL table 'TECHM'...\n",
      "Uploaded 'TECHM' successfully.\n",
      "Uploading TITAN.csv to MySQL table 'TITAN'...\n",
      "Uploaded 'TITAN' successfully.\n",
      "Uploading top_gainers_2023-10.csv to MySQL table 'top_gainers_2023-10'...\n",
      "Uploaded 'top_gainers_2023-10' successfully.\n",
      "Uploading top_gainers_2023-11.csv to MySQL table 'top_gainers_2023-11'...\n",
      "Uploaded 'top_gainers_2023-11' successfully.\n",
      "Uploading top_gainers_2023-12.csv to MySQL table 'top_gainers_2023-12'...\n",
      "Uploaded 'top_gainers_2023-12' successfully.\n",
      "Uploading top_gainers_2024-01.csv to MySQL table 'top_gainers_2024-01'...\n",
      "Uploaded 'top_gainers_2024-01' successfully.\n",
      "Uploading top_gainers_2024-02.csv to MySQL table 'top_gainers_2024-02'...\n",
      "Uploaded 'top_gainers_2024-02' successfully.\n",
      "Uploading top_gainers_2024-03.csv to MySQL table 'top_gainers_2024-03'...\n",
      "Uploaded 'top_gainers_2024-03' successfully.\n",
      "Uploading top_gainers_2024-04.csv to MySQL table 'top_gainers_2024-04'...\n",
      "Uploaded 'top_gainers_2024-04' successfully.\n",
      "Uploading top_gainers_2024-05.csv to MySQL table 'top_gainers_2024-05'...\n",
      "Uploaded 'top_gainers_2024-05' successfully.\n",
      "Uploading top_gainers_2024-06.csv to MySQL table 'top_gainers_2024-06'...\n",
      "Uploaded 'top_gainers_2024-06' successfully.\n",
      "Uploading top_gainers_2024-07.csv to MySQL table 'top_gainers_2024-07'...\n",
      "Uploaded 'top_gainers_2024-07' successfully.\n",
      "Uploading top_gainers_2024-08.csv to MySQL table 'top_gainers_2024-08'...\n",
      "Uploaded 'top_gainers_2024-08' successfully.\n",
      "Uploading top_gainers_2024-09.csv to MySQL table 'top_gainers_2024-09'...\n",
      "Uploaded 'top_gainers_2024-09' successfully.\n",
      "Uploading top_gainers_2024-10.csv to MySQL table 'top_gainers_2024-10'...\n",
      "Uploaded 'top_gainers_2024-10' successfully.\n",
      "Uploading top_gainers_2024-11.csv to MySQL table 'top_gainers_2024-11'...\n",
      "Uploaded 'top_gainers_2024-11' successfully.\n",
      "Uploading top_losers_2023-10.csv to MySQL table 'top_losers_2023-10'...\n",
      "Uploaded 'top_losers_2023-10' successfully.\n",
      "Uploading top_losers_2023-11.csv to MySQL table 'top_losers_2023-11'...\n",
      "Uploaded 'top_losers_2023-11' successfully.\n",
      "Uploading top_losers_2023-12.csv to MySQL table 'top_losers_2023-12'...\n",
      "Uploaded 'top_losers_2023-12' successfully.\n",
      "Uploading top_losers_2024-01.csv to MySQL table 'top_losers_2024-01'...\n",
      "Uploaded 'top_losers_2024-01' successfully.\n",
      "Uploading top_losers_2024-02.csv to MySQL table 'top_losers_2024-02'...\n",
      "Uploaded 'top_losers_2024-02' successfully.\n",
      "Uploading top_losers_2024-03.csv to MySQL table 'top_losers_2024-03'...\n",
      "Uploaded 'top_losers_2024-03' successfully.\n",
      "Uploading top_losers_2024-04.csv to MySQL table 'top_losers_2024-04'...\n",
      "Uploaded 'top_losers_2024-04' successfully.\n",
      "Uploading top_losers_2024-05.csv to MySQL table 'top_losers_2024-05'...\n",
      "Uploaded 'top_losers_2024-05' successfully.\n",
      "Uploading top_losers_2024-06.csv to MySQL table 'top_losers_2024-06'...\n",
      "Uploaded 'top_losers_2024-06' successfully.\n",
      "Uploading top_losers_2024-07.csv to MySQL table 'top_losers_2024-07'...\n",
      "Uploaded 'top_losers_2024-07' successfully.\n",
      "Uploading top_losers_2024-08.csv to MySQL table 'top_losers_2024-08'...\n",
      "Uploaded 'top_losers_2024-08' successfully.\n",
      "Uploading top_losers_2024-09.csv to MySQL table 'top_losers_2024-09'...\n",
      "Uploaded 'top_losers_2024-09' successfully.\n",
      "Uploading top_losers_2024-10.csv to MySQL table 'top_losers_2024-10'...\n",
      "Uploaded 'top_losers_2024-10' successfully.\n",
      "Uploading top_losers_2024-11.csv to MySQL table 'top_losers_2024-11'...\n",
      "Uploaded 'top_losers_2024-11' successfully.\n",
      "Uploading TRENT.csv to MySQL table 'TRENT'...\n",
      "Uploaded 'TRENT' successfully.\n",
      "Uploading ULTRACEMCO.csv to MySQL table 'ULTRACEMCO'...\n",
      "Uploaded 'ULTRACEMCO' successfully.\n",
      "Uploading WIPRO.csv to MySQL table 'WIPRO'...\n",
      "Uploaded 'WIPRO' successfully.\n",
      "All CSV files uploaded to MySQL!\n"
     ]
    },
    {
     "name": "stderr",
     "output_type": "stream",
     "text": [
      "C:\\Users\\imaya\\AppData\\Local\\Temp\\ipykernel_9328\\4133618462.py:37: UserWarning: The provided table name 'TRENT' is not found exactly as such in the database after writing the table, possibly due to case sensitivity issues. Consider using lower case table names.\n",
      "  df.to_sql(table_name, con=engine_db, if_exists='replace', index=False)\n",
      "C:\\Users\\imaya\\AppData\\Local\\Temp\\ipykernel_9328\\4133618462.py:37: UserWarning: The provided table name 'ULTRACEMCO' is not found exactly as such in the database after writing the table, possibly due to case sensitivity issues. Consider using lower case table names.\n",
      "  df.to_sql(table_name, con=engine_db, if_exists='replace', index=False)\n",
      "C:\\Users\\imaya\\AppData\\Local\\Temp\\ipykernel_9328\\4133618462.py:37: UserWarning: The provided table name 'WIPRO' is not found exactly as such in the database after writing the table, possibly due to case sensitivity issues. Consider using lower case table names.\n",
      "  df.to_sql(table_name, con=engine_db, if_exists='replace', index=False)\n"
     ]
    }
   ],
   "source": [
    "from sqlalchemy import create_engine, text\n",
    "import pandas as pd\n",
    "import os\n",
    "\n",
    "# MySQL credentials and database name\n",
    "username = 'root'\n",
    "password = 'root'\n",
    "host = 'localhost'\n",
    "port = '3306'\n",
    "database = 'stock_csv'  # database to create/use\n",
    "\n",
    "# Folder where your CSV files are stored\n",
    "csv_folder = r\"C:\\Users\\imaya\\Desktop\\stock_csv\"\n",
    "\n",
    "# Step 1: Connect to MySQL server (without DB)\n",
    "engine = create_engine(f'mysql+pymysql://{username}:{password}@{host}:{port}/')\n",
    "\n",
    "# Step 2: Create database if it doesn't exist\n",
    "with engine.connect() as conn:\n",
    "    conn.execute(text(f\"CREATE DATABASE IF NOT EXISTS {database}\"))\n",
    "    print(f\"Database '{database}' ensured.\")\n",
    "\n",
    "# Step 3: Connect to the new database\n",
    "engine_db = create_engine(f'mysql+pymysql://{username}:{password}@{host}:{port}/{database}')\n",
    "\n",
    "# Step 4: Loop through all CSV files and upload them to MySQL\n",
    "for filename in os.listdir(csv_folder):\n",
    "    if filename.endswith('.csv'):\n",
    "        file_path = os.path.join(csv_folder, filename)\n",
    "        table_name = os.path.splitext(filename)[0]  # file name without .csv\n",
    "        \n",
    "        print(f\"Uploading {filename} to MySQL table '{table_name}'...\")\n",
    "        \n",
    "        df = pd.read_csv(file_path)\n",
    "        \n",
    "        # Upload to MySQL, replace table if exists\n",
    "        df.to_sql(table_name, con=engine_db, if_exists='replace', index=False)\n",
    "        \n",
    "        print(f\"Uploaded '{table_name}' successfully.\")\n",
    "\n",
    "print(\"All CSV files uploaded to MySQL!\")\n",
    "\n"
   ]
  },
  {
   "cell_type": "code",
   "execution_count": 5,
   "id": "6ca9da5e",
   "metadata": {},
   "outputs": [
    {
     "name": "stdout",
     "output_type": "stream",
     "text": [
      "C:\\Users\\imaya\\Desktop\\emayan\n"
     ]
    }
   ],
   "source": [
    "import os\n",
    "print(os.getcwd())\n"
   ]
  },
  {
   "cell_type": "code",
   "execution_count": 7,
   "id": "dfa697d1",
   "metadata": {},
   "outputs": [
    {
     "name": "stdout",
     "output_type": "stream",
     "text": [
      "['.env', '.sql', '.venv', 'app.ipynb', 'app.py', 'imdb_2024_combined.csv', 'movie_dashboard.ipynb', 'myenv', 'sector_data.csv', 'stock_dashboard.py', 'venv', '__pycache__']\n"
     ]
    }
   ],
   "source": [
    "import os\n",
    "print(os.listdir())\n"
   ]
  },
  {
   "cell_type": "code",
   "execution_count": 8,
   "id": "3ca1ce18",
   "metadata": {},
   "outputs": [
    {
     "name": "stdout",
     "output_type": "stream",
     "text": [
      "             COMPANY         sector                         Symbol\n",
      "0  ADANI ENTERPRISES  MISCELLANEOUS  ADANI ENTERPRISES: ADANIGREEN\n",
      "1  ADANI PORTS & SEZ  MISCELLANEOUS  ADANI PORTS & SEZ: ADANIPORTS\n",
      "2   APOLLO HOSPITALS  MISCELLANEOUS   APOLLO HOSPITALS: APOLLOHOSP\n",
      "3       ASIAN PAINTS         PAINTS       ASIAN PAINTS: ASIANPAINT\n",
      "4          AXIS BANK        BANKING            AXIS BANK: AXISBANK\n"
     ]
    }
   ],
   "source": [
    "import pandas as pd\n",
    "\n",
    "df = pd.read_csv(\"sector_data.csv\")\n",
    "print(df.head())\n"
   ]
  },
  {
   "cell_type": "code",
   "execution_count": 11,
   "id": "b8df23b9",
   "metadata": {},
   "outputs": [
    {
     "name": "stdout",
     "output_type": "stream",
     "text": [
      "        ticker     sector\n",
      "45       techm   SOFTWARE\n",
      "46       titan  RETAILING\n",
      "47       trent  RETAILING\n",
      "48  ultracemco     CEMENT\n",
      "49       wipro   SOFTWARE\n"
     ]
    }
   ],
   "source": [
    "import pandas as pd\n",
    "\n",
    "# Load the CSV file\n",
    "sector_df = pd.read_csv(\"sector_data.csv\")\n",
    "\n",
    "# Extract the ticker after the colon from every row in the 'Symbol' column\n",
    "sector_df['ticker'] = sector_df['Symbol'].apply(lambda x: x.split(':')[-1].strip())\n",
    "\n",
    "# Convert ticker to lowercase (to match your MySQL table names)\n",
    "sector_df['ticker'] = sector_df['ticker'].str.lower()\n",
    "\n",
    "# Keep only the relevant columns: ticker and sector\n",
    "sector_df = sector_df[['ticker', 'sector']]\n",
    "\n",
    "# Display the cleaned dataframe\n",
    "print(sector_df.tail())   # Or sector_df.to_csv(\"cleaned_sector_data.csv\", index=False) to save\n"
   ]
  }
 ],
 "metadata": {
  "kernelspec": {
   "display_name": "myenv",
   "language": "python",
   "name": "python3"
  },
  "language_info": {
   "codemirror_mode": {
    "name": "ipython",
    "version": 3
   },
   "file_extension": ".py",
   "mimetype": "text/x-python",
   "name": "python",
   "nbconvert_exporter": "python",
   "pygments_lexer": "ipython3",
   "version": "3.12.10"
  }
 },
 "nbformat": 4,
 "nbformat_minor": 5
}
